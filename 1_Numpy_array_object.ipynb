{
 "cells": [
  {
   "cell_type": "markdown",
   "metadata": {
    "colab_type": "text",
    "id": "F9MJmcoJ5KBl"
   },
   "source": [
    "# The Numpy array object"
   ]
  },
  {
   "cell_type": "markdown",
   "metadata": {
    "colab_type": "text",
    "id": "_W1FTSgc5KBp"
   },
   "source": [
    "# NumPy Arrays"
   ]
  },
  {
   "cell_type": "markdown",
   "metadata": {
    "colab_type": "text",
    "id": "Iw1S7Yvv5KBs"
   },
   "source": [
    "**python objects:** \n",
    "\n",
    "1. high-level number objects: integers, floating point\n",
    "2. containers: lists (costless insertion and append), dictionaries (fast lookup)"
   ]
  },
  {
   "cell_type": "markdown",
   "metadata": {
    "colab_type": "text",
    "id": "M_wtB2DN5KBu"
   },
   "source": [
    "**Numpy provides:**\n",
    "\n",
    "1. extension package to Python for multi-dimensional arrays\n",
    "2. closer to hardware (efficiency)\n",
    "3. designed for scientific computation (convenience)\n",
    "4. Also known as array oriented computing"
   ]
  },
  {
   "cell_type": "code",
   "execution_count": 6,
   "metadata": {
    "colab": {},
    "colab_type": "code",
    "id": "M7o8-MYe5KBw",
    "outputId": "de4cdd72-6bb2-4dbc-c8a4-c77d82e4d9d4"
   },
   "outputs": [
    {
     "name": "stdout",
     "output_type": "stream",
     "text": [
      "[0 1 2 3]\n",
      "[ 0  1  2  3  4  5  6  7  8  9 10 11 12 13 14 15 16 17 18 19 20 21 22]\n"
     ]
    }
   ],
   "source": [
    "import numpy as np\n",
    "a = np.array([0, 1, 2, 3])\n",
    "print(a)\n",
    "\n",
    "print(np.arange(23))"
   ]
  },
  {
   "cell_type": "markdown",
   "metadata": {
    "colab_type": "text",
    "id": "BjqwPMHc5KB_"
   },
   "source": [
    "**Why it is useful:** Memory-efficient container that provides fast numerical operations."
   ]
  },
  {
   "cell_type": "code",
   "execution_count": 10,
   "metadata": {
    "colab": {},
    "colab_type": "code",
    "id": "vyVPcXHk5KCA",
    "outputId": "3ddf1896-e695-4934-c4b9-5621f308e909"
   },
   "outputs": [
    {
     "name": "stdout",
     "output_type": "stream",
     "text": [
      "586 µs ± 52.8 µs per loop (mean ± std. dev. of 7 runs, 1000 loops each)\n"
     ]
    }
   ],
   "source": [
    "#python lists\n",
    "L = range(1000)\n",
    "%timeit [i**2 for i in L]"
   ]
  },
  {
   "cell_type": "code",
   "execution_count": 9,
   "metadata": {
    "colab": {},
    "colab_type": "code",
    "id": "1gUw8VoU5KCG",
    "outputId": "ba7e057a-af4a-4c1c-ada5-fe3c68d3413f"
   },
   "outputs": [
    {
     "name": "stdout",
     "output_type": "stream",
     "text": [
      "2.38 µs ± 15 ns per loop (mean ± std. dev. of 7 runs, 100000 loops each)\n"
     ]
    }
   ],
   "source": [
    "a = np.arange(1000)\n",
    "%timeit a**2"
   ]
  },
  {
   "cell_type": "markdown",
   "metadata": {
    "colab_type": "text",
    "id": "OASYSloj5KCM"
   },
   "source": [
    "# 1. Creating arrays"
   ]
  },
  {
   "cell_type": "markdown",
   "metadata": {
    "colab_type": "text",
    "id": "duovuzMA5KCO"
   },
   "source": [
    "** 1.1.  Manual Construction of arrays**"
   ]
  },
  {
   "cell_type": "code",
   "execution_count": 13,
   "metadata": {
    "colab": {},
    "colab_type": "code",
    "id": "NPGF-D0C5KCQ",
    "outputId": "d9d3b3ae-df98-4d91-bb61-2f6b62997fab"
   },
   "outputs": [
    {
     "data": {
      "text/plain": [
       "array([0, 0, 2, 3, 7, 9])"
      ]
     },
     "execution_count": 13,
     "metadata": {},
     "output_type": "execute_result"
    }
   ],
   "source": [
    "#1-D\n",
    "\n",
    "a = np.array([0, 0, 2, 3,7,9])\n",
    "\n",
    "a"
   ]
  },
  {
   "cell_type": "code",
   "execution_count": 0,
   "metadata": {
    "colab": {},
    "colab_type": "code",
    "id": "PpI7fZNz5KCW",
    "outputId": "72c9f0ef-a074-44a3-dfb8-babe03edc3a2"
   },
   "outputs": [
    {
     "data": {
      "text/plain": [
       "1"
      ]
     },
     "execution_count": 10,
     "metadata": {
      "tags": []
     },
     "output_type": "execute_result"
    }
   ],
   "source": [
    "#print dimensions\n",
    "\n",
    "a.ndim"
   ]
  },
  {
   "cell_type": "code",
   "execution_count": 14,
   "metadata": {
    "colab": {},
    "colab_type": "code",
    "id": "oSY_Zr__5KCc",
    "outputId": "50391dcd-7cac-477c-9b5c-56cd9c23c822"
   },
   "outputs": [
    {
     "data": {
      "text/plain": [
       "(6,)"
      ]
     },
     "execution_count": 14,
     "metadata": {},
     "output_type": "execute_result"
    }
   ],
   "source": [
    "#shape\n",
    "\n",
    "a.shape"
   ]
  },
  {
   "cell_type": "code",
   "execution_count": 15,
   "metadata": {
    "colab": {},
    "colab_type": "code",
    "id": "ur9ff3_j5KCg",
    "outputId": "cfbac942-152b-4db2-87db-e49bf764ea3d"
   },
   "outputs": [
    {
     "data": {
      "text/plain": [
       "6"
      ]
     },
     "execution_count": 15,
     "metadata": {},
     "output_type": "execute_result"
    }
   ],
   "source": [
    "len(a)"
   ]
  },
  {
   "cell_type": "code",
   "execution_count": 27,
   "metadata": {
    "colab": {},
    "colab_type": "code",
    "id": "cJJeUtp15KCk",
    "outputId": "bca26cf7-f00e-4f6f-f0e6-b2a0b32465ab"
   },
   "outputs": [
    {
     "data": {
      "text/plain": [
       "array([[0, 1, 2],\n",
       "       [3, 4, 5],\n",
       "       [1, 2, 3]])"
      ]
     },
     "execution_count": 27,
     "metadata": {},
     "output_type": "execute_result"
    }
   ],
   "source": [
    "# 2-D, 3-D....\n",
    "\n",
    "b = np.array([[0, 1, 2], [3, 4, 5],[1,2,3,]])\n",
    "\n",
    "b"
   ]
  },
  {
   "cell_type": "code",
   "execution_count": 29,
   "metadata": {
    "colab": {},
    "colab_type": "code",
    "id": "5Bj4A__V5KCn",
    "outputId": "c1c02938-42e2-4331-dbbe-1cb344c8ca7a"
   },
   "outputs": [
    {
     "data": {
      "text/plain": [
       "2"
      ]
     },
     "execution_count": 29,
     "metadata": {},
     "output_type": "execute_result"
    }
   ],
   "source": [
    "b.ndim"
   ]
  },
  {
   "cell_type": "code",
   "execution_count": 30,
   "metadata": {
    "colab": {},
    "colab_type": "code",
    "id": "dcBDwROI5KCs",
    "outputId": "4a76859d-c92e-44be-837b-f523ab9e4c87"
   },
   "outputs": [
    {
     "data": {
      "text/plain": [
       "(3, 3)"
      ]
     },
     "execution_count": 30,
     "metadata": {},
     "output_type": "execute_result"
    }
   ],
   "source": [
    "b.shape"
   ]
  },
  {
   "cell_type": "code",
   "execution_count": 31,
   "metadata": {
    "colab": {},
    "colab_type": "code",
    "id": "zXiykD5M5KC3",
    "outputId": "d9c47c2b-4c03-4e1f-941a-26f572a0456b"
   },
   "outputs": [
    {
     "data": {
      "text/plain": [
       "3"
      ]
     },
     "execution_count": 31,
     "metadata": {},
     "output_type": "execute_result"
    }
   ],
   "source": [
    "len(b) #returns the size of the first dimention"
   ]
  },
  {
   "cell_type": "code",
   "execution_count": 23,
   "metadata": {
    "colab": {},
    "colab_type": "code",
    "id": "wFyPIgZr5KC8",
    "outputId": "302480b7-e31b-4b56-cefc-38b483b9ab5d"
   },
   "outputs": [
    {
     "data": {
      "text/plain": [
       "array([[[0, 1],\n",
       "        [2, 3]],\n",
       "\n",
       "       [[4, 5],\n",
       "        [6, 7]]])"
      ]
     },
     "execution_count": 23,
     "metadata": {},
     "output_type": "execute_result"
    }
   ],
   "source": [
    "c = np.array([[[0, 1], [2, 3]], [[4, 5], [6, 7]]])\n",
    "\n",
    "c"
   ]
  },
  {
   "cell_type": "code",
   "execution_count": 24,
   "metadata": {
    "colab": {},
    "colab_type": "code",
    "id": "PkQivfRj5KDB",
    "outputId": "bdbdc9fd-e036-46a7-94c5-a64c7a409877"
   },
   "outputs": [
    {
     "data": {
      "text/plain": [
       "3"
      ]
     },
     "execution_count": 24,
     "metadata": {},
     "output_type": "execute_result"
    }
   ],
   "source": [
    "c.ndim"
   ]
  },
  {
   "cell_type": "code",
   "execution_count": 25,
   "metadata": {
    "colab": {},
    "colab_type": "code",
    "id": "xxo09EEZ5KDF",
    "outputId": "25e0c15d-4e8d-44aa-c521-5d8632f2a0cc"
   },
   "outputs": [
    {
     "data": {
      "text/plain": [
       "(2, 2, 2)"
      ]
     },
     "execution_count": 25,
     "metadata": {},
     "output_type": "execute_result"
    }
   ],
   "source": [
    "c.shape"
   ]
  },
  {
   "cell_type": "markdown",
   "metadata": {
    "colab_type": "text",
    "id": "tEccAOSn5KDK"
   },
   "source": [
    "** 1.2  Functions for creating arrays**"
   ]
  },
  {
   "cell_type": "code",
   "execution_count": 26,
   "metadata": {},
   "outputs": [
    {
     "data": {
      "text/plain": [
       "2"
      ]
     },
     "execution_count": 26,
     "metadata": {},
     "output_type": "execute_result"
    }
   ],
   "source": [
    "len(c)"
   ]
  },
  {
   "cell_type": "code",
   "execution_count": 0,
   "metadata": {
    "colab": {},
    "colab_type": "code",
    "id": "yEeTwNqW5KDM",
    "outputId": "b5772d41-1ab2-4d01-e065-c92008f06085"
   },
   "outputs": [
    {
     "data": {
      "text/plain": [
       "array([0, 1, 2, 3, 4, 5, 6, 7, 8, 9])"
      ]
     },
     "execution_count": 17,
     "metadata": {
      "tags": []
     },
     "output_type": "execute_result"
    }
   ],
   "source": [
    "#using arrange function\n",
    "\n",
    "# arange is an array-valued version of the built-in Python range function\n",
    "\n",
    "a = np.arange(10) # 0.... n-1\n",
    "a"
   ]
  },
  {
   "cell_type": "code",
   "execution_count": 36,
   "metadata": {
    "colab": {},
    "colab_type": "code",
    "id": "w-aKnDg05KDQ",
    "outputId": "a0ca2b1e-e659-4514-f4d8-f2d924bcb0d8"
   },
   "outputs": [
    {
     "data": {
      "text/plain": [
       "array([1, 2, 3, 4, 5, 6, 7, 8, 9])"
      ]
     },
     "execution_count": 36,
     "metadata": {},
     "output_type": "execute_result"
    }
   ],
   "source": [
    "b = np.arange(1, 10, 1) #start, end (exclusive), step\n",
    "\n",
    "b"
   ]
  },
  {
   "cell_type": "code",
   "execution_count": 46,
   "metadata": {
    "colab": {},
    "colab_type": "code",
    "id": "PbY7KZ2T5KDU",
    "outputId": "14c98733-733d-4180-ceff-a4e3398f3d3c"
   },
   "outputs": [
    {
     "data": {
      "text/plain": [
       "array([0.        , 0.33333333, 0.66666667, 1.        ])"
      ]
     },
     "execution_count": 46,
     "metadata": {},
     "output_type": "execute_result"
    }
   ],
   "source": [
    "#using linspace\n",
    "\n",
    "a = np.linspace(0, 1, 4) #start, end, number of points\n",
    "\n",
    "a"
   ]
  },
  {
   "cell_type": "code",
   "execution_count": 41,
   "metadata": {
    "colab": {},
    "colab_type": "code",
    "id": "jEXPF_bp5KDZ",
    "outputId": "d5456940-56e3-4236-fa10-f88eb9791ffe"
   },
   "outputs": [
    {
     "data": {
      "text/plain": [
       "array([[1., 1., 1.],\n",
       "       [1., 1., 1.],\n",
       "       [1., 1., 1.]])"
      ]
     },
     "execution_count": 41,
     "metadata": {},
     "output_type": "execute_result"
    }
   ],
   "source": [
    "#common arrays\n",
    "\n",
    "a = np.ones((3, 3))\n",
    "\n",
    "a"
   ]
  },
  {
   "cell_type": "code",
   "execution_count": 0,
   "metadata": {
    "colab": {},
    "colab_type": "code",
    "id": "-zPMMjEo5KDc",
    "outputId": "92f1861e-f85b-488f-d675-6a64f98710b4"
   },
   "outputs": [
    {
     "data": {
      "text/plain": [
       "array([[ 0.,  0.,  0.],\n",
       "       [ 0.,  0.,  0.],\n",
       "       [ 0.,  0.,  0.]])"
      ]
     },
     "execution_count": 22,
     "metadata": {
      "tags": []
     },
     "output_type": "execute_result"
    }
   ],
   "source": [
    "b = np.zeros((3, 3))\n",
    "\n",
    "b"
   ]
  },
  {
   "cell_type": "code",
   "execution_count": 42,
   "metadata": {
    "colab": {},
    "colab_type": "code",
    "id": "iva_x1Y25KDf",
    "outputId": "347a496f-b2db-4fc4-b634-50ed5fb9d447"
   },
   "outputs": [
    {
     "data": {
      "text/plain": [
       "array([[1., 0., 0., 0., 0., 0.],\n",
       "       [0., 1., 0., 0., 0., 0.],\n",
       "       [0., 0., 1., 0., 0., 0.],\n",
       "       [0., 0., 0., 1., 0., 0.],\n",
       "       [0., 0., 0., 0., 1., 0.],\n",
       "       [0., 0., 0., 0., 0., 1.]])"
      ]
     },
     "execution_count": 42,
     "metadata": {},
     "output_type": "execute_result"
    }
   ],
   "source": [
    "c = np.eye(6)  #Return a 2-D array with ones on the diagonal and zeros elsewhere.\n",
    "\n",
    "c"
   ]
  },
  {
   "cell_type": "code",
   "execution_count": 43,
   "metadata": {
    "colab": {},
    "colab_type": "code",
    "id": "0UPv6IBd5KDk",
    "outputId": "e0c11c71-a8a8-4544-fadf-22bf59d84a07"
   },
   "outputs": [
    {
     "data": {
      "text/plain": [
       "array([[1., 0., 0., 0., 0., 0., 0.],\n",
       "       [0., 1., 0., 0., 0., 0., 0.],\n",
       "       [0., 0., 1., 0., 0., 0., 0.]])"
      ]
     },
     "execution_count": 43,
     "metadata": {},
     "output_type": "execute_result"
    }
   ],
   "source": [
    "d = np.eye(3, 7) #3 is number of rows, 2 is number of columns, index of diagonal start with 0\n",
    "\n",
    "d"
   ]
  },
  {
   "cell_type": "code",
   "execution_count": 44,
   "metadata": {
    "colab": {},
    "colab_type": "code",
    "id": "X0khu_6H5KDo",
    "outputId": "40d8f55d-dd76-4fb7-86f2-c0661231dc63"
   },
   "outputs": [
    {
     "data": {
      "text/plain": [
       "array([[1, 0, 0],\n",
       "       [0, 2, 0],\n",
       "       [0, 0, 4]])"
      ]
     },
     "execution_count": 44,
     "metadata": {},
     "output_type": "execute_result"
    }
   ],
   "source": [
    "#create array using diag function\n",
    "\n",
    "a = np.diag([1, 2,  4]) #construct a diagonal array.\n",
    "\n",
    "a"
   ]
  },
  {
   "cell_type": "code",
   "execution_count": 45,
   "metadata": {
    "colab": {},
    "colab_type": "code",
    "id": "jtu2ChUt5KDq",
    "outputId": "4eb2d233-588c-4859-b649-e2c8ba0cf702"
   },
   "outputs": [
    {
     "data": {
      "text/plain": [
       "array([1, 2, 4])"
      ]
     },
     "execution_count": 45,
     "metadata": {},
     "output_type": "execute_result"
    }
   ],
   "source": [
    "np.diag(a)   #Extract diagonal"
   ]
  },
  {
   "cell_type": "code",
   "execution_count": 48,
   "metadata": {
    "colab": {},
    "colab_type": "code",
    "id": "JfahvFnj5KDu",
    "outputId": "dc144435-60b4-4cbb-ac4f-5c8659531e6c"
   },
   "outputs": [
    {
     "data": {
      "text/plain": [
       "array([0.55563836])"
      ]
     },
     "execution_count": 48,
     "metadata": {},
     "output_type": "execute_result"
    }
   ],
   "source": [
    "#create array using random\n",
    "\n",
    "#Create an array of the given shape and populate it with random samples from a uniform distribution over [0, 1).\n",
    "a = np.random.rand(1) \n",
    "\n",
    "a"
   ]
  },
  {
   "cell_type": "code",
   "execution_count": 49,
   "metadata": {
    "colab": {},
    "colab_type": "code",
    "id": "ot7Aij7d5KDw",
    "outputId": "03bd9c1b-0608-41b8-be65-6676d11c69bb"
   },
   "outputs": [
    {
     "data": {
      "text/plain": [
       "array([-0.32904364, -1.86094064,  2.1437041 ,  0.09725241, -0.83143722,\n",
       "       -1.4784501 , -1.27922006,  0.32339617])"
      ]
     },
     "execution_count": 49,
     "metadata": {},
     "output_type": "execute_result"
    }
   ],
   "source": [
    "a = np.random.randn(8)#Return a sample (or samples) from the “standard normal” distribution.  ***Gausian***\n",
    "\n",
    "a"
   ]
  },
  {
   "cell_type": "markdown",
   "metadata": {
    "colab_type": "text",
    "id": "aRK5tN_F5KDz"
   },
   "source": [
    "**Note:**\n",
    "    \n",
    "For random samples from N(\\mu, \\sigma^2), use:\n",
    "\n",
    "sigma * np.random.randn(...) + mu\n",
    "\n"
   ]
  },
  {
   "cell_type": "markdown",
   "metadata": {
    "colab_type": "text",
    "id": "36MjYG6E5KD0"
   },
   "source": [
    "# 2. Basic DataTypes"
   ]
  },
  {
   "cell_type": "markdown",
   "metadata": {
    "colab_type": "text",
    "id": "-K6yrynt5KD1"
   },
   "source": [
    "You may have noticed that, in some instances, array elements are displayed with a **trailing dot (e.g. 2. vs 2)**. This is due to a difference in the **data-type** used:"
   ]
  },
  {
   "cell_type": "code",
   "execution_count": 52,
   "metadata": {
    "colab": {},
    "colab_type": "code",
    "id": "Dee7Z3215KD2",
    "outputId": "22ccafa1-b0fc-469e-ff9a-f09689d58698"
   },
   "outputs": [
    {
     "data": {
      "text/plain": [
       "dtype('int32')"
      ]
     },
     "execution_count": 52,
     "metadata": {},
     "output_type": "execute_result"
    }
   ],
   "source": [
    "a = np.arange(10000)\n",
    "\n",
    "a.dtype"
   ]
  },
  {
   "cell_type": "code",
   "execution_count": 55,
   "metadata": {
    "colab": {},
    "colab_type": "code",
    "id": "rTIjQKfp5KD8",
    "outputId": "942d0218-b86b-4ff9-d288-261c0c296452"
   },
   "outputs": [
    {
     "data": {
      "text/plain": [
       "array([0, 1, 2, 3, 4, 5, 6, 7, 8, 9])"
      ]
     },
     "execution_count": 55,
     "metadata": {},
     "output_type": "execute_result"
    }
   ],
   "source": [
    "#You can explicitly specify which data-type you want:\n",
    "\n",
    "a = np.arange(10, dtype='int32')\n",
    "a"
   ]
  },
  {
   "cell_type": "code",
   "execution_count": 57,
   "metadata": {
    "colab": {},
    "colab_type": "code",
    "id": "HsKFx1Sx5KD-",
    "outputId": "061877ab-b82a-44de-e0f3-43aea97e4384"
   },
   "outputs": [
    {
     "name": "stdout",
     "output_type": "stream",
     "text": [
      "[[0. 0. 0.]\n",
      " [0. 0. 0.]\n",
      " [0. 0. 0.]]\n"
     ]
    },
    {
     "data": {
      "text/plain": [
       "dtype('float64')"
      ]
     },
     "execution_count": 57,
     "metadata": {},
     "output_type": "execute_result"
    }
   ],
   "source": [
    "#The default data type is float for zeros and ones function\n",
    "\n",
    "a = np.zeros((3, 3))\n",
    "\n",
    "print(a)\n",
    "\n",
    "a.dtype"
   ]
  },
  {
   "cell_type": "markdown",
   "metadata": {
    "colab_type": "text",
    "id": "dAiIi9vT5KEB"
   },
   "source": [
    "**other datatypes**"
   ]
  },
  {
   "cell_type": "code",
   "execution_count": 60,
   "metadata": {
    "colab": {},
    "colab_type": "code",
    "id": "XCgbLGnL5KEC",
    "outputId": "f8f6ee44-c5ac-4bcd-b084-8c93f9b0e828"
   },
   "outputs": [
    {
     "name": "stdout",
     "output_type": "stream",
     "text": [
      "complex128\n"
     ]
    }
   ],
   "source": [
    "d = np.array([1+2j, 2+4j])   #Complex datatype\n",
    "\n",
    "print(d.dtype)"
   ]
  },
  {
   "cell_type": "code",
   "execution_count": 59,
   "metadata": {
    "colab": {},
    "colab_type": "code",
    "id": "t9Brdfix5KEF",
    "outputId": "7e23e500-3ec1-4546-9ec9-4614dee686e9"
   },
   "outputs": [
    {
     "name": "stdout",
     "output_type": "stream",
     "text": [
      "bool\n"
     ]
    }
   ],
   "source": [
    "b = np.array([True, False, True, False])  #Boolean datatype\n",
    "\n",
    "print(b.dtype)"
   ]
  },
  {
   "cell_type": "code",
   "execution_count": 58,
   "metadata": {
    "colab": {},
    "colab_type": "code",
    "id": "bn7PC1I45KEI",
    "outputId": "ae1f560f-272c-4104-9293-75289f72ea56"
   },
   "outputs": [
    {
     "data": {
      "text/plain": [
       "dtype('<U6')"
      ]
     },
     "execution_count": 58,
     "metadata": {},
     "output_type": "execute_result"
    }
   ],
   "source": [
    "s = np.array(['Ram', 'Robert', 'Rahim'])\n",
    "\n",
    "s.dtype"
   ]
  },
  {
   "cell_type": "markdown",
   "metadata": {
    "colab_type": "text",
    "id": "gTy0tQFl5KEM"
   },
   "source": [
    "**Each built-in data type has a character code that uniquely identifies it.**\n",
    "\n",
    "'b' − boolean\n",
    "\n",
    "'i' − (signed) integer\n",
    "\n",
    "'u' − unsigned integer\n",
    "\n",
    "'f' − floating-point\n",
    "\n",
    "'c' − complex-floating point\n",
    "\n",
    "'m' − timedelta\n",
    "\n",
    "'M' − datetime\n",
    "\n",
    "'O' − (Python) objects\n",
    "\n",
    "'S', 'a' − (byte-)string\n",
    "\n",
    "'U' − Unicode\n",
    "\n",
    "'V' − raw data (void)"
   ]
  },
  {
   "cell_type": "markdown",
   "metadata": {
    "colab_type": "text",
    "id": "tlNp08Q-5KEQ"
   },
   "source": [
    "**For more details**\n",
    "\n",
    "**https://docs.scipy.org/doc/numpy-1.10.1/user/basics.types.html**"
   ]
  },
  {
   "cell_type": "markdown",
   "metadata": {
    "colab_type": "text",
    "id": "lxxrSs8A5KER"
   },
   "source": [
    "# 3. Indexing and Slicing"
   ]
  },
  {
   "cell_type": "markdown",
   "metadata": {
    "colab_type": "text",
    "id": "Z_a389VI5KET"
   },
   "source": [
    "**3.1 Indexing**"
   ]
  },
  {
   "cell_type": "markdown",
   "metadata": {
    "colab_type": "text",
    "id": "oA4Iu7nt5KEU"
   },
   "source": [
    "The items of an array can be accessed and assigned to the same way as other **Python sequences (e.g. lists)**:"
   ]
  },
  {
   "cell_type": "code",
   "execution_count": 63,
   "metadata": {
    "colab": {},
    "colab_type": "code",
    "id": "F4VuVNHU5KEW",
    "outputId": "4b2374d9-d129-40c6-dafb-37eba172b636"
   },
   "outputs": [
    {
     "name": "stdout",
     "output_type": "stream",
     "text": [
      "1\n"
     ]
    }
   ],
   "source": [
    "a = np.arange(10)\n",
    "\n",
    "print(a[1])  #indices begin at 0, like other Python sequences (and C/C++)"
   ]
  },
  {
   "cell_type": "code",
   "execution_count": 61,
   "metadata": {
    "colab": {},
    "colab_type": "code",
    "id": "9hwCCtDL5KEb",
    "outputId": "4e43a444-502c-4a2b-df28-a260e26d24ea"
   },
   "outputs": [
    {
     "name": "stdout",
     "output_type": "stream",
     "text": [
      "3\n"
     ]
    }
   ],
   "source": [
    "# For multidimensional arrays, indexes are tuples of integers:\n",
    "\n",
    "a = np.diag([1, 2, 3])\n",
    "\n",
    "print(a[2, 2])"
   ]
  },
  {
   "cell_type": "code",
   "execution_count": 0,
   "metadata": {
    "colab": {},
    "colab_type": "code",
    "id": "bS9JIqhw5KEf",
    "outputId": "6fe97f2c-8a7c-437c-d962-aa2e43f871d6"
   },
   "outputs": [
    {
     "data": {
      "text/plain": [
       "array([[1, 0, 0],\n",
       "       [0, 2, 0],\n",
       "       [0, 5, 3]])"
      ]
     },
     "execution_count": 35,
     "metadata": {
      "tags": []
     },
     "output_type": "execute_result"
    }
   ],
   "source": [
    "a[2, 1] = 5 #assigning value\n",
    "\n",
    "a"
   ]
  },
  {
   "cell_type": "markdown",
   "metadata": {
    "colab_type": "text",
    "id": "oKY3p8dz5KEi"
   },
   "source": [
    "**3.2 Slicing**"
   ]
  },
  {
   "cell_type": "code",
   "execution_count": 0,
   "metadata": {
    "colab": {},
    "colab_type": "code",
    "id": "LJ7vz5uf5KEj",
    "outputId": "355cf61c-d87b-4f6d-cec7-c49771511706"
   },
   "outputs": [
    {
     "data": {
      "text/plain": [
       "array([0, 1, 2, 3, 4, 5, 6, 7, 8, 9])"
      ]
     },
     "execution_count": 36,
     "metadata": {
      "tags": []
     },
     "output_type": "execute_result"
    }
   ],
   "source": [
    "a = np.arange(10)\n",
    "\n",
    "a"
   ]
  },
  {
   "cell_type": "code",
   "execution_count": 0,
   "metadata": {
    "colab": {},
    "colab_type": "code",
    "id": "5-XmC2tC5KEr",
    "outputId": "5b09e90a-668e-4844-8f49-8a77361dcbd2"
   },
   "outputs": [
    {
     "data": {
      "text/plain": [
       "array([1, 3, 5, 7])"
      ]
     },
     "execution_count": 37,
     "metadata": {
      "tags": []
     },
     "output_type": "execute_result"
    }
   ],
   "source": [
    "a[1:8:2] # [startindex: endindex(exclusive) : step]"
   ]
  },
  {
   "cell_type": "code",
   "execution_count": 0,
   "metadata": {
    "colab": {},
    "colab_type": "code",
    "id": "kCvFrEFK5KEv",
    "outputId": "1fe5d775-008c-4af8-e602-fc077e4381f5"
   },
   "outputs": [
    {
     "data": {
      "text/plain": [
       "array([ 0,  1,  2,  3,  4, 10, 10, 10, 10, 10])"
      ]
     },
     "execution_count": 39,
     "metadata": {
      "tags": []
     },
     "output_type": "execute_result"
    }
   ],
   "source": [
    "#we can also combine assignment and slicing:\n",
    "\n",
    "a = np.arange(10)\n",
    "a[5:] = 10\n",
    "a"
   ]
  },
  {
   "cell_type": "code",
   "execution_count": 66,
   "metadata": {
    "colab": {},
    "colab_type": "code",
    "id": "Mnj-1D8y5KE0",
    "outputId": "c7538e1e-fb75-4b56-dbf5-8c49917e2214"
   },
   "outputs": [
    {
     "ename": "ValueError",
     "evalue": "could not broadcast input array from shape (2) into shape (3)",
     "output_type": "error",
     "traceback": [
      "\u001b[1;31m---------------------------------------------------------------------------\u001b[0m",
      "\u001b[1;31mValueError\u001b[0m                                Traceback (most recent call last)",
      "\u001b[1;32m<ipython-input-66-4c7a0b473541>\u001b[0m in \u001b[0;36m<module>\u001b[1;34m()\u001b[0m\n\u001b[0;32m      1\u001b[0m \u001b[0mb\u001b[0m \u001b[1;33m=\u001b[0m \u001b[0mnp\u001b[0m\u001b[1;33m.\u001b[0m\u001b[0marange\u001b[0m\u001b[1;33m(\u001b[0m\u001b[1;36m5\u001b[0m\u001b[1;33m)\u001b[0m\u001b[1;33m\u001b[0m\u001b[0m\n\u001b[1;32m----> 2\u001b[1;33m \u001b[0ma\u001b[0m\u001b[1;33m[\u001b[0m\u001b[1;36m7\u001b[0m\u001b[1;33m:\u001b[0m\u001b[1;33m]\u001b[0m \u001b[1;33m=\u001b[0m \u001b[0mb\u001b[0m\u001b[1;33m[\u001b[0m\u001b[1;33m:\u001b[0m\u001b[1;33m:\u001b[0m\u001b[1;33m-\u001b[0m\u001b[1;36m3\u001b[0m\u001b[1;33m]\u001b[0m  \u001b[1;31m#assigning\u001b[0m\u001b[1;33m\u001b[0m\u001b[0m\n\u001b[0m\u001b[0;32m      3\u001b[0m \u001b[1;33m\u001b[0m\u001b[0m\n\u001b[0;32m      4\u001b[0m \u001b[0ma\u001b[0m\u001b[1;33m\u001b[0m\u001b[0m\n",
      "\u001b[1;31mValueError\u001b[0m: could not broadcast input array from shape (2) into shape (3)"
     ]
    }
   ],
   "source": [
    "b = np.arange(5)\n",
    "a[7:] = b[::-3]  #assigning\n",
    "\n",
    "a"
   ]
  },
  {
   "cell_type": "markdown",
   "metadata": {
    "colab_type": "text",
    "id": "PFR1291r5KE3"
   },
   "source": [
    "# 4. Copies and Views"
   ]
  },
  {
   "cell_type": "markdown",
   "metadata": {
    "colab_type": "text",
    "id": "pNCFMofD5KE4"
   },
   "source": [
    "A slicing operation creates a view on the original array, which is just a way of accessing array data. Thus the original array is not copied in memory. You can use **np.may_share_memory()** to check if two arrays share the same memory block. "
   ]
  },
  {
   "cell_type": "markdown",
   "metadata": {
    "colab_type": "text",
    "id": "QLK31tTF5KE5"
   },
   "source": [
    "**When modifying the view, the original array is modified as well:**"
   ]
  },
  {
   "cell_type": "code",
   "execution_count": 78,
   "metadata": {
    "colab": {},
    "colab_type": "code",
    "id": "4XKbPBCn5KE6",
    "outputId": "be40607b-1746-4b0e-f5a0-097de70a1b93"
   },
   "outputs": [
    {
     "data": {
      "text/plain": [
       "array([0, 1, 2, 3, 4, 5, 6, 7, 8, 9])"
      ]
     },
     "execution_count": 78,
     "metadata": {},
     "output_type": "execute_result"
    }
   ],
   "source": [
    "a = np.arange(10)\n",
    "a"
   ]
  },
  {
   "cell_type": "code",
   "execution_count": 79,
   "metadata": {
    "colab": {},
    "colab_type": "code",
    "id": "HbR8tgg25KE-",
    "outputId": "3c66f1d8-49bf-4fe7-f817-c37cd98444f2"
   },
   "outputs": [
    {
     "data": {
      "text/plain": [
       "array([0, 2, 4])"
      ]
     },
     "execution_count": 79,
     "metadata": {},
     "output_type": "execute_result"
    }
   ],
   "source": [
    "b = a[:6:2]\n",
    "b"
   ]
  },
  {
   "cell_type": "code",
   "execution_count": 80,
   "metadata": {
    "colab": {},
    "colab_type": "code",
    "id": "cjz9r8q25KFC",
    "outputId": "f0798709-172e-4f6b-dc7a-5a0b359eb909"
   },
   "outputs": [
    {
     "data": {
      "text/plain": [
       "True"
      ]
     },
     "execution_count": 80,
     "metadata": {},
     "output_type": "execute_result"
    }
   ],
   "source": [
    "np.shares_memory(a, b)"
   ]
  },
  {
   "cell_type": "code",
   "execution_count": 81,
   "metadata": {
    "colab": {},
    "colab_type": "code",
    "id": "PGjnKce25KFG",
    "outputId": "ab5e72e7-529c-4555-bc5e-21aa6f397333"
   },
   "outputs": [
    {
     "data": {
      "text/plain": [
       "array([10,  2,  4])"
      ]
     },
     "execution_count": 81,
     "metadata": {},
     "output_type": "execute_result"
    }
   ],
   "source": [
    "b[0] = 10\n",
    "b"
   ]
  },
  {
   "cell_type": "code",
   "execution_count": 82,
   "metadata": {
    "colab": {},
    "colab_type": "code",
    "id": "och7ft5c5KFN",
    "outputId": "1279b0a9-2948-4f54-b9fa-534dba6121a3"
   },
   "outputs": [
    {
     "data": {
      "text/plain": [
       "array([10,  1,  2,  3,  4,  5,  6,  7,  8,  9])"
      ]
     },
     "execution_count": 82,
     "metadata": {},
     "output_type": "execute_result"
    }
   ],
   "source": [
    "a  #eventhough we modified b,  it updated 'a' because both shares same memory"
   ]
  },
  {
   "cell_type": "code",
   "execution_count": 83,
   "metadata": {
    "colab": {},
    "colab_type": "code",
    "id": "RwH_Zza45KFR",
    "outputId": "e38c2f3a-c481-49cd-a0b9-87f8441c93fd"
   },
   "outputs": [
    {
     "data": {
      "text/plain": [
       "array([0, 2, 4, 6, 8])"
      ]
     },
     "execution_count": 83,
     "metadata": {},
     "output_type": "execute_result"
    }
   ],
   "source": [
    "\n",
    "\n",
    "a = np.arange(10)\n",
    "\n",
    "c = a[::2].copy()     #force a copy\n",
    "c"
   ]
  },
  {
   "cell_type": "code",
   "execution_count": 84,
   "metadata": {
    "colab": {},
    "colab_type": "code",
    "id": "zhACmhU85KFW",
    "outputId": "deabb60c-1fd4-44e7-dfb3-f2c77c50a1d8"
   },
   "outputs": [
    {
     "data": {
      "text/plain": [
       "False"
      ]
     },
     "execution_count": 84,
     "metadata": {},
     "output_type": "execute_result"
    }
   ],
   "source": [
    "np.shares_memory(a, c)"
   ]
  },
  {
   "cell_type": "code",
   "execution_count": 0,
   "metadata": {
    "colab": {},
    "colab_type": "code",
    "id": "zbhoU-2W5KFZ",
    "outputId": "20ba89b5-c1e2-432f-bd94-d071991750b1"
   },
   "outputs": [
    {
     "data": {
      "text/plain": [
       "array([0, 1, 2, 3, 4, 5, 6, 7, 8, 9])"
      ]
     },
     "execution_count": 48,
     "metadata": {
      "tags": []
     },
     "output_type": "execute_result"
    }
   ],
   "source": [
    "c[0] = 10\n",
    "\n",
    "a"
   ]
  },
  {
   "cell_type": "markdown",
   "metadata": {
    "colab_type": "text",
    "id": "BzcH6VRZ5KFc"
   },
   "source": [
    "# 5. Fancy Indexing"
   ]
  },
  {
   "cell_type": "markdown",
   "metadata": {
    "colab_type": "text",
    "id": "hpi-JUwC5KFc"
   },
   "source": [
    "NumPy arrays can be indexed with slices, but also with boolean or integer arrays **(masks)**. This method is called **fancy indexing**. It creates copies not views."
   ]
  },
  {
   "cell_type": "markdown",
   "metadata": {
    "colab_type": "text",
    "id": "RJtFgW0o5KFf"
   },
   "source": [
    "**Using Boolean Mask**"
   ]
  },
  {
   "cell_type": "code",
   "execution_count": 85,
   "metadata": {
    "colab": {},
    "colab_type": "code",
    "id": "Zb5eSA455KFn",
    "outputId": "c47266af-b4ed-4c09-a804-fe417f9685fe"
   },
   "outputs": [
    {
     "data": {
      "text/plain": [
       "array([ 2,  8,  5, 16,  9, 10,  8,  8,  3,  6, 19, 17, 16,  0, 15])"
      ]
     },
     "execution_count": 85,
     "metadata": {},
     "output_type": "execute_result"
    }
   ],
   "source": [
    "a = np.random.randint(0, 20, 15)\n",
    "a"
   ]
  },
  {
   "cell_type": "code",
   "execution_count": 86,
   "metadata": {
    "colab": {},
    "colab_type": "code",
    "id": "EaIy9IdS5KFq"
   },
   "outputs": [],
   "source": [
    "mask = (a % 2 == 0)"
   ]
  },
  {
   "cell_type": "code",
   "execution_count": 87,
   "metadata": {
    "colab": {},
    "colab_type": "code",
    "id": "F7YUrhyv5KFt",
    "outputId": "cfa57397-3273-40bd-e936-1de0bb3d37e2"
   },
   "outputs": [
    {
     "data": {
      "text/plain": [
       "array([ 2,  8, 16, 10,  8,  8,  6, 16,  0])"
      ]
     },
     "execution_count": 87,
     "metadata": {},
     "output_type": "execute_result"
    }
   ],
   "source": [
    "extract_from_a = a[mask]\n",
    "\n",
    "extract_from_a"
   ]
  },
  {
   "cell_type": "markdown",
   "metadata": {
    "colab_type": "text",
    "id": "cgMKaiDh5KFx"
   },
   "source": [
    "**Indexing with a mask can be very useful to assign a new value to a sub-array:**"
   ]
  },
  {
   "cell_type": "code",
   "execution_count": 88,
   "metadata": {
    "colab": {},
    "colab_type": "code",
    "id": "AMnQz8f15KFx",
    "outputId": "1c21d563-a388-4e0a-a5f3-d8ab743d491d"
   },
   "outputs": [
    {
     "data": {
      "text/plain": [
       "array([-1, -1,  5, -1,  9, -1, -1, -1,  3, -1, 19, 17, -1, -1, 15])"
      ]
     },
     "execution_count": 88,
     "metadata": {},
     "output_type": "execute_result"
    }
   ],
   "source": [
    "a[mask] = -1\n",
    "a"
   ]
  },
  {
   "cell_type": "markdown",
   "metadata": {
    "colab_type": "text",
    "id": "Z0y-Uzk75KF0"
   },
   "source": [
    "**Indexing with an array of integers**"
   ]
  },
  {
   "cell_type": "code",
   "execution_count": 89,
   "metadata": {
    "colab": {},
    "colab_type": "code",
    "id": "2cdfdqQn5KF1",
    "outputId": "cb4c6298-1b99-4231-969e-f22b3992541e"
   },
   "outputs": [
    {
     "data": {
      "text/plain": [
       "array([ 0, 10, 20, 30, 40, 50, 60, 70, 80, 90])"
      ]
     },
     "execution_count": 89,
     "metadata": {},
     "output_type": "execute_result"
    }
   ],
   "source": [
    "a = np.arange(0, 100, 10)\n",
    "\n",
    "a"
   ]
  },
  {
   "cell_type": "code",
   "execution_count": 90,
   "metadata": {
    "colab": {},
    "colab_type": "code",
    "id": "YlxMqvLm5KF4",
    "outputId": "091ba535-a1e3-405a-f87e-dc84df18081c"
   },
   "outputs": [
    {
     "data": {
      "text/plain": [
       "array([20, 30, 20, 40, 20])"
      ]
     },
     "execution_count": 90,
     "metadata": {},
     "output_type": "execute_result"
    }
   ],
   "source": [
    "#Indexing can be done with an array of integers, where the same index is repeated several time:\n",
    "\n",
    "a[[2, 3, 2, 4, 2]]"
   ]
  },
  {
   "cell_type": "code",
   "execution_count": 0,
   "metadata": {
    "colab": {},
    "colab_type": "code",
    "id": "czX77cEZ5KF6",
    "outputId": "b60b4d4f-4b31-4506-a54a-a9898a41e7d5"
   },
   "outputs": [
    {
     "data": {
      "text/plain": [
       "array([   0,   10,   20,   30,   40,   50,   60, -200,   80, -200])"
      ]
     },
     "execution_count": 55,
     "metadata": {
      "tags": []
     },
     "output_type": "execute_result"
    }
   ],
   "source": [
    "# New values can be assigned \n",
    "\n",
    "a[[9, 7]] = -200\n",
    "\n",
    "a"
   ]
  }
 ],
 "metadata": {
  "colab": {
   "name": "1_Numpy_array_object.ipynb",
   "provenance": [],
   "version": "0.3.2"
  },
  "kernelspec": {
   "display_name": "Python 3",
   "language": "python",
   "name": "python3"
  },
  "language_info": {
   "codemirror_mode": {
    "name": "ipython",
    "version": 3
   },
   "file_extension": ".py",
   "mimetype": "text/x-python",
   "name": "python",
   "nbconvert_exporter": "python",
   "pygments_lexer": "ipython3",
   "version": "3.7.0"
  }
 },
 "nbformat": 4,
 "nbformat_minor": 1
}
